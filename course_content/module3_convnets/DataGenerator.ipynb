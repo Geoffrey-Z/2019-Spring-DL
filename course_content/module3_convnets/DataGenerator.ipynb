{
  "nbformat": 4,
  "nbformat_minor": 0,
  "metadata": {
    "colab": {
      "name": "DataGenerator.ipynb",
      "version": "0.3.2",
      "provenance": [],
      "include_colab_link": true
    },
    "language_info": {
      "codemirror_mode": {
        "name": "ipython",
        "version": 2
      },
      "file_extension": ".py",
      "mimetype": "text/x-python",
      "name": "python",
      "nbconvert_exporter": "python",
      "pygments_lexer": "ipython2",
      "version": "2.7.15"
    },
    "kernelspec": {
      "display_name": "Python 2",
      "language": "python",
      "name": "python2"
    }
  },
  "cells": [
    {
      "cell_type": "markdown",
      "metadata": {
        "id": "view-in-github",
        "colab_type": "text"
      },
      "source": [
        "<a href=\"https://colab.research.google.com/github/badriadhikari/2019-Spring-DL/blob/master/course_content/module3_convnets/DataGenerator.ipynb\" target=\"_parent\"><img src=\"https://colab.research.google.com/assets/colab-badge.svg\" alt=\"Open In Colab\"/></a>"
      ]
    },
    {
      "metadata": {
        "id": "IMXchYS_gLQm",
        "colab_type": "text"
      },
      "cell_type": "markdown",
      "source": [
        "Here is the [Original example](https://github.com/fchollet/deep-learning-with-python-notebooks/blob/master/5.2-using-convnets-with-small-datasets.ipynb)."
      ]
    },
    {
      "metadata": {
        "id": "UhEPmYxEgLQn",
        "colab_type": "code",
        "colab": {},
        "outputId": "827667b0-edf6-4900-e886-445ab514789d"
      },
      "cell_type": "code",
      "source": [
        "import keras\n",
        "import os, shutil\n",
        "from keras import optimizers\n",
        "from keras.preprocessing.image import ImageDataGenerator\n",
        "import matplotlib.pyplot as plt\n",
        "from keras import layers\n",
        "from keras import models\n",
        "\n",
        "keras.__version__"
      ],
      "execution_count": 0,
      "outputs": [
        {
          "output_type": "stream",
          "text": [
            "Using TensorFlow backend.\n"
          ],
          "name": "stderr"
        },
        {
          "output_type": "execute_result",
          "data": {
            "text/plain": [
              "'2.2.4'"
            ]
          },
          "metadata": {
            "tags": []
          },
          "execution_count": 5
        }
      ]
    },
    {
      "metadata": {
        "id": "e30kKgV_gLQr",
        "colab_type": "code",
        "colab": {}
      },
      "cell_type": "code",
      "source": [
        "base_dir = '/Users/badriadhikari/Downloads/dogs-vs-cats_small/'\n",
        "\n",
        "train_dir = os.path.join(base_dir, 'train')\n",
        "validation_dir = os.path.join(base_dir, 'validation')\n",
        "test_dir = os.path.join(base_dir, 'test')\n",
        "\n",
        "train_cats_dir = os.path.join(train_dir, 'cats')\n",
        "train_dogs_dir = os.path.join(train_dir, 'dogs')\n",
        "\n",
        "validation_cats_dir = os.path.join(validation_dir, 'cats')\n",
        "validation_dogs_dir = os.path.join(validation_dir, 'dogs')\n",
        "\n",
        "test_cats_dir = os.path.join(test_dir, 'cats')\n",
        "test_dogs_dir = os.path.join(test_dir, 'dogs')"
      ],
      "execution_count": 0,
      "outputs": []
    },
    {
      "metadata": {
        "id": "iQJvbUTtgLQu",
        "colab_type": "text"
      },
      "cell_type": "markdown",
      "source": [
        "As a sanity check, let's count how many pictures we have in each training split (train/validation/test):"
      ]
    },
    {
      "metadata": {
        "id": "w2MAANfEgLQu",
        "colab_type": "code",
        "colab": {},
        "outputId": "3de96010-3f30-4136-ae5d-67ac5c1d56e6"
      },
      "cell_type": "code",
      "source": [
        "print('total training cat images:', len(os.listdir(train_cats_dir)))"
      ],
      "execution_count": 0,
      "outputs": [
        {
          "output_type": "stream",
          "text": [
            "('total training cat images:', 1000)\n"
          ],
          "name": "stdout"
        }
      ]
    },
    {
      "metadata": {
        "id": "9CEUzRcNgLQx",
        "colab_type": "code",
        "colab": {},
        "outputId": "bdf64758-215e-46ab-b175-badae4a3dff0"
      },
      "cell_type": "code",
      "source": [
        "print('total training dog images:', len(os.listdir(train_dogs_dir)))"
      ],
      "execution_count": 0,
      "outputs": [
        {
          "output_type": "stream",
          "text": [
            "('total training dog images:', 1000)\n"
          ],
          "name": "stdout"
        }
      ]
    },
    {
      "metadata": {
        "id": "d0TQtzRjgLQ0",
        "colab_type": "code",
        "colab": {},
        "outputId": "1b5513f6-52f0-443f-939c-ab01a214a052"
      },
      "cell_type": "code",
      "source": [
        "print('total validation cat images:', len(os.listdir(validation_cats_dir)))"
      ],
      "execution_count": 0,
      "outputs": [
        {
          "output_type": "stream",
          "text": [
            "('total validation cat images:', 500)\n"
          ],
          "name": "stdout"
        }
      ]
    },
    {
      "metadata": {
        "id": "DzxTvxiPgLQ2",
        "colab_type": "code",
        "colab": {},
        "outputId": "3ad32df7-6610-4db7-8443-05aeb82913c0"
      },
      "cell_type": "code",
      "source": [
        "print('total validation dog images:', len(os.listdir(validation_dogs_dir)))"
      ],
      "execution_count": 0,
      "outputs": [
        {
          "output_type": "stream",
          "text": [
            "('total validation dog images:', 500)\n"
          ],
          "name": "stdout"
        }
      ]
    },
    {
      "metadata": {
        "id": "SNV4UNU_gLQ5",
        "colab_type": "code",
        "colab": {},
        "outputId": "31ed4a25-24ba-4f24-f34f-69aa6fedd4f1"
      },
      "cell_type": "code",
      "source": [
        "print('total test cat images:', len(os.listdir(test_cats_dir)))"
      ],
      "execution_count": 0,
      "outputs": [
        {
          "output_type": "stream",
          "text": [
            "('total test cat images:', 500)\n"
          ],
          "name": "stdout"
        }
      ]
    },
    {
      "metadata": {
        "id": "Ke1IAFsmgLQ8",
        "colab_type": "code",
        "colab": {},
        "outputId": "01166a55-55a1-4ceb-a866-2e1a44369b83"
      },
      "cell_type": "code",
      "source": [
        "print('total test dog images:', len(os.listdir(test_dogs_dir)))"
      ],
      "execution_count": 0,
      "outputs": [
        {
          "output_type": "stream",
          "text": [
            "('total test dog images:', 500)\n"
          ],
          "name": "stdout"
        }
      ]
    },
    {
      "metadata": {
        "id": "JeQwhBIigLQ_",
        "colab_type": "text"
      },
      "cell_type": "markdown",
      "source": [
        "## Questions\n",
        "#### How many training images?   \n",
        "#### How many validation images?   \n",
        "#### How many test images?   \n",
        "-------"
      ]
    },
    {
      "metadata": {
        "id": "rY8Eb7IwgLRA",
        "colab_type": "code",
        "colab": {},
        "outputId": "d9c0d3d8-4655-4638-d0e2-a43628a6ce0d"
      },
      "cell_type": "code",
      "source": [
        "model = models.Sequential()\n",
        "model.add(layers.Conv2D(32, (3, 3), activation='relu', input_shape=(150, 150, 3)))\n",
        "model.add(layers.MaxPooling2D((2, 2)))\n",
        "model.add(layers.Conv2D(64, (3, 3), activation='relu'))\n",
        "model.add(layers.MaxPooling2D((2, 2)))\n",
        "model.add(layers.Conv2D(128, (3, 3), activation='relu'))\n",
        "model.add(layers.MaxPooling2D((2, 2)))\n",
        "model.add(layers.Conv2D(128, (3, 3), activation='relu'))\n",
        "model.add(layers.MaxPooling2D((2, 2)))\n",
        "model.add(layers.Flatten())\n",
        "model.add(layers.Dense(512, activation='relu'))\n",
        "model.add(layers.Dense(1, activation='sigmoid'))\n",
        "\n",
        "model.summary()\n",
        "\n",
        "model.compile(loss='binary_crossentropy', optimizer=optimizers.RMSprop(lr=1e-4),metrics=['acc'])"
      ],
      "execution_count": 0,
      "outputs": [
        {
          "output_type": "stream",
          "text": [
            "_________________________________________________________________\n",
            "Layer (type)                 Output Shape              Param #   \n",
            "=================================================================\n",
            "conv2d_1 (Conv2D)            (None, 148, 148, 32)      896       \n",
            "_________________________________________________________________\n",
            "max_pooling2d_1 (MaxPooling2 (None, 74, 74, 32)        0         \n",
            "_________________________________________________________________\n",
            "conv2d_2 (Conv2D)            (None, 72, 72, 64)        18496     \n",
            "_________________________________________________________________\n",
            "max_pooling2d_2 (MaxPooling2 (None, 36, 36, 64)        0         \n",
            "_________________________________________________________________\n",
            "conv2d_3 (Conv2D)            (None, 34, 34, 128)       73856     \n",
            "_________________________________________________________________\n",
            "max_pooling2d_3 (MaxPooling2 (None, 17, 17, 128)       0         \n",
            "_________________________________________________________________\n",
            "conv2d_4 (Conv2D)            (None, 15, 15, 128)       147584    \n",
            "_________________________________________________________________\n",
            "max_pooling2d_4 (MaxPooling2 (None, 7, 7, 128)         0         \n",
            "_________________________________________________________________\n",
            "flatten_1 (Flatten)          (None, 6272)              0         \n",
            "_________________________________________________________________\n",
            "dense_1 (Dense)              (None, 512)               3211776   \n",
            "_________________________________________________________________\n",
            "dense_2 (Dense)              (None, 1)                 513       \n",
            "=================================================================\n",
            "Total params: 3,453,121\n",
            "Trainable params: 3,453,121\n",
            "Non-trainable params: 0\n",
            "_________________________________________________________________\n"
          ],
          "name": "stdout"
        }
      ]
    },
    {
      "metadata": {
        "id": "AmvK4YvvgLRC",
        "colab_type": "text"
      },
      "cell_type": "markdown",
      "source": [
        "-------\n",
        "## Data preprocessing\n",
        "\n",
        "Our data sits on a drive as JPEG files, so the steps for getting it into our network are:\n",
        "\n",
        "* Read the picture files.\n",
        "* Decode the JPEG content to RBG grids of pixels.\n",
        "* Convert these into floating point tensors.\n",
        "* Rescale the pixel values (between 0 and 255) to the [0, 1] interval (as you know, neural networks prefer to deal with small input values)."
      ]
    },
    {
      "metadata": {
        "id": "IMyyJOTVgLRD",
        "colab_type": "code",
        "colab": {}
      },
      "cell_type": "code",
      "source": [
        "# Readmore at https://keras.io/preprocessing/image/\n",
        "\n",
        "# All images will be rescaled by 1./255\n",
        "train_datagen = ImageDataGenerator(rescale=1./255)\n",
        "test_datagen = ImageDataGenerator(rescale=1./255)"
      ],
      "execution_count": 0,
      "outputs": []
    },
    {
      "metadata": {
        "id": "jijJswUAgLRF",
        "colab_type": "code",
        "colab": {},
        "outputId": "1aa8b535-5afc-462d-a018-ef6656021666"
      },
      "cell_type": "code",
      "source": [
        "# Specify how the ImageDataGenerator will read and deliver\n",
        "train_generator = train_datagen.flow_from_directory(\n",
        "        # This is the target directory\n",
        "        train_dir,\n",
        "        # All images will be resized to 150x150\n",
        "        target_size=(150, 150),\n",
        "        batch_size=20,\n",
        "        # Since we use binary_crossentropy loss, we need binary labels\n",
        "        class_mode='binary')"
      ],
      "execution_count": 0,
      "outputs": [
        {
          "output_type": "stream",
          "text": [
            "Found 2000 images belonging to 2 classes.\n"
          ],
          "name": "stdout"
        }
      ]
    },
    {
      "metadata": {
        "id": "ds_GHE8WgLRH",
        "colab_type": "code",
        "colab": {},
        "outputId": "cc2db47c-884c-44f9-90a0-952cdc55cc24"
      },
      "cell_type": "code",
      "source": [
        "validation_generator = test_datagen.flow_from_directory(\n",
        "        validation_dir,\n",
        "        target_size=(150, 150),\n",
        "        batch_size=20,\n",
        "        class_mode='binary')"
      ],
      "execution_count": 0,
      "outputs": [
        {
          "output_type": "stream",
          "text": [
            "Found 1000 images belonging to 2 classes.\n"
          ],
          "name": "stdout"
        }
      ]
    },
    {
      "metadata": {
        "id": "QgoZhujhgLRK",
        "colab_type": "text"
      },
      "cell_type": "markdown",
      "source": [
        "--------\n",
        "### Let's take a look at the output of one of these generators:"
      ]
    },
    {
      "metadata": {
        "id": "GNlY7DZEgLRL",
        "colab_type": "code",
        "colab": {},
        "outputId": "91f5499b-7c19-44f2-cc8f-249710beadfc"
      },
      "cell_type": "code",
      "source": [
        "print(type(train_generator))"
      ],
      "execution_count": 0,
      "outputs": [
        {
          "output_type": "stream",
          "text": [
            "<class 'keras_preprocessing.image.DirectoryIterator'>\n"
          ],
          "name": "stdout"
        }
      ]
    },
    {
      "metadata": {
        "id": "EI-qBDpDgLRO",
        "colab_type": "code",
        "colab": {},
        "outputId": "dffb2fe7-e592-4d3e-fd8d-74472a1f8adf"
      },
      "cell_type": "code",
      "source": [
        "fo = train_generator[0]\n",
        "print(type(fo))"
      ],
      "execution_count": 0,
      "outputs": [
        {
          "output_type": "stream",
          "text": [
            "<type 'tuple'>\n"
          ],
          "name": "stdout"
        }
      ]
    },
    {
      "metadata": {
        "id": "wxzXyr3bgLRQ",
        "colab_type": "code",
        "colab": {},
        "outputId": "335e06a9-dd9b-4178-889f-f36b8b3f1aef"
      },
      "cell_type": "code",
      "source": [
        "print(len(fo))"
      ],
      "execution_count": 0,
      "outputs": [
        {
          "output_type": "stream",
          "text": [
            "2\n"
          ],
          "name": "stdout"
        }
      ]
    },
    {
      "metadata": {
        "id": "KPUCmFWIgLRS",
        "colab_type": "code",
        "colab": {}
      },
      "cell_type": "code",
      "source": [
        "a = fo[0]\n",
        "b = fo[1]"
      ],
      "execution_count": 0,
      "outputs": []
    },
    {
      "metadata": {
        "id": "WbfW3DnBgLRV",
        "colab_type": "code",
        "colab": {},
        "outputId": "6d803cbf-b2cb-4953-dc3b-f03fa6ab785c"
      },
      "cell_type": "code",
      "source": [
        "print(type(a))\n",
        "print(type(b))"
      ],
      "execution_count": 0,
      "outputs": [
        {
          "output_type": "stream",
          "text": [
            "<type 'numpy.ndarray'>\n",
            "<type 'numpy.ndarray'>\n"
          ],
          "name": "stdout"
        }
      ]
    },
    {
      "metadata": {
        "id": "KqVjoKINgLRY",
        "colab_type": "code",
        "colab": {},
        "outputId": "cc62dcb1-b08b-4aec-d89b-9c08a9bcb81e"
      },
      "cell_type": "code",
      "source": [
        "print(a.shape)\n",
        "print(b.shape)"
      ],
      "execution_count": 0,
      "outputs": [
        {
          "output_type": "stream",
          "text": [
            "(20, 150, 150, 3)\n",
            "(20,)\n"
          ],
          "name": "stdout"
        }
      ]
    },
    {
      "metadata": {
        "id": "A4Z9Td_OgLRb",
        "colab_type": "text"
      },
      "cell_type": "markdown",
      "source": [
        "### What does this shape imply?\n",
        "-------"
      ]
    },
    {
      "metadata": {
        "id": "x3Xc9O8ZgLRb",
        "colab_type": "code",
        "colab": {},
        "outputId": "c5eaa7d0-0b5f-414b-c3f4-24b7e12d4c05"
      },
      "cell_type": "code",
      "source": [
        "plt.matshow(a[0, :, :, 0])"
      ],
      "execution_count": 0,
      "outputs": [
        {
          "output_type": "execute_result",
          "data": {
            "text/plain": [
              "<matplotlib.image.AxesImage at 0xb3c6d0e10>"
            ]
          },
          "metadata": {
            "tags": []
          },
          "execution_count": 19
        },
        {
          "output_type": "display_data",
          "data": {
            "image/png": "[encoded data removed]",
            "text/plain": [
              "<matplotlib.figure.Figure at 0x10fd0a110>"
            ]
          },
          "metadata": {
            "tags": [],
            "needs_background": "light"
          }
        }
      ]
    },
    {
      "metadata": {
        "id": "FB-VaWE8gLRe",
        "colab_type": "code",
        "colab": {},
        "outputId": "be7efe13-0b4a-4057-db33-e5aaaab74f3f"
      },
      "cell_type": "code",
      "source": [
        "print(b[0])"
      ],
      "execution_count": 0,
      "outputs": [
        {
          "output_type": "stream",
          "text": [
            "1.0\n"
          ],
          "name": "stdout"
        }
      ]
    },
    {
      "metadata": {
        "id": "GGqu4H1XgLRg",
        "colab_type": "text"
      },
      "cell_type": "markdown",
      "source": [
        "--------\n",
        "### Do the training"
      ]
    },
    {
      "metadata": {
        "id": "W3lxyCgagLRg",
        "colab_type": "code",
        "colab": {},
        "outputId": "5d5f8410-d19e-40d1-f842-7355dbff49b6"
      },
      "cell_type": "code",
      "source": [
        "# the number of samples processed for each epoch is batch_size * steps_per_epochs\n",
        "history = model.fit_generator(\n",
        "      train_generator,\n",
        "      steps_per_epoch=100,\n",
        "      epochs=10,\n",
        "      validation_data=validation_generator,\n",
        "      validation_steps=50)"
      ],
      "execution_count": 0,
      "outputs": [
        {
          "output_type": "stream",
          "text": [
            "Epoch 1/3\n",
            "10/10 [==============================] - 8s 831ms/step - loss: 0.7014 - acc: 0.5250 - val_loss: 0.6863 - val_acc: 0.5800\n",
            "Epoch 2/3\n",
            "10/10 [==============================] - 6s 645ms/step - loss: 0.6839 - acc: 0.5500 - val_loss: 0.7084 - val_acc: 0.5300\n",
            "Epoch 3/3\n",
            "10/10 [==============================] - 6s 643ms/step - loss: 0.6915 - acc: 0.5550 - val_loss: 0.6875 - val_acc: 0.5300\n"
          ],
          "name": "stdout"
        }
      ]
    },
    {
      "metadata": {
        "collapsed": true,
        "id": "kohOLvXegLRi",
        "colab_type": "text"
      },
      "cell_type": "markdown",
      "source": [
        "------\n",
        "### Save the trained model"
      ]
    },
    {
      "metadata": {
        "id": "pex8vn-mgLRj",
        "colab_type": "code",
        "colab": {}
      },
      "cell_type": "code",
      "source": [
        "model.save('cats_and_dogs_small.h5')"
      ],
      "execution_count": 0,
      "outputs": []
    },
    {
      "metadata": {
        "id": "YQ-pAqlWgLRk",
        "colab_type": "text"
      },
      "cell_type": "markdown",
      "source": [
        "-----\n",
        "### Plot Learning curves"
      ]
    },
    {
      "metadata": {
        "id": "xfDzGq9ogLRl",
        "colab_type": "code",
        "colab": {}
      },
      "cell_type": "code",
      "source": [
        "acc = history.history['acc']\n",
        "val_acc = history.history['val_acc']\n",
        "loss = history.history['loss']\n",
        "val_loss = history.history['val_loss']\n",
        "\n",
        "epochs = range(len(acc))\n",
        "plt.plot(epochs, acc, 'bo', label='Training acc')\n",
        "plt.plot(epochs, val_acc, 'b', label='Validation acc')\n",
        "plt.title('Training and validation accuracy')\n",
        "plt.legend()\n",
        "\n",
        "plt.figure()\n",
        "\n",
        "plt.plot(epochs, loss, 'bo', label='Training loss')\n",
        "plt.plot(epochs, val_loss, 'b', label='Validation loss')\n",
        "plt.title('Training and validation loss')\n",
        "plt.legend()\n",
        "\n",
        "plt.show()"
      ],
      "execution_count": 0,
      "outputs": []
    }
  ]
}